{
  "cells": [
    {
      "cell_type": "markdown",
      "metadata": {
        "id": "view-in-github",
        "colab_type": "text"
      },
      "source": [
        "<a href=\"https://colab.research.google.com/github/annaliese-estes/quantum-8-ball/blob/main/Quantum_Masterclass_Answer_Key.ipynb\" target=\"_parent\"><img src=\"https://colab.research.google.com/assets/colab-badge.svg\" alt=\"Open In Colab\"/></a>"
      ]
    },
    {
      "cell_type": "markdown",
      "id": "859c8b3f",
      "metadata": {
        "id": "859c8b3f"
      },
      "source": [
        "# Quantum Magic 8 Ball\n",
        "\n",
        "Instructor:  \n",
        "Annaliese Estes  "
      ]
    },
    {
      "cell_type": "markdown",
      "id": "87444477",
      "metadata": {
        "id": "87444477"
      },
      "source": [
        "# Magic 8 Ball\n",
        "\n",
        "Here, we will build a Magic 8 Ball program that randomly returns 1 of 8 possible responses. How do we use quantum computing to generate a random number? Computational space scales exponentially in quantum computing. Thus, if we need a random result out of 8 possibilities, our program needs to take a measurement of a quantum state vector that consists of 8 basis states, which represent the computational space of 3 qubits in an equal superposition.\n",
        "\n"
      ]
    },
    {
      "cell_type": "code",
      "execution_count": null,
      "id": "a81d31ee",
      "metadata": {
        "scrolled": true,
        "id": "a81d31ee",
        "collapsed": true
      },
      "outputs": [],
      "source": [
        "# install Qiskit with visualization\n",
        "\n",
        "!pip install qiskit[visualization]\n",
        "!pip install qiskit-ibm-runtime"
      ]
    },
    {
      "cell_type": "code",
      "execution_count": null,
      "id": "d32bc7b5",
      "metadata": {
        "id": "d32bc7b5"
      },
      "outputs": [],
      "source": [
        "# install additional packages\n",
        "\n",
        "from qiskit import QuantumCircuit\n",
        "from qiskit.visualization import plot_histogram\n",
        "from qiskit_ibm_runtime import QiskitRuntimeService\n",
        "from qiskit_ibm_runtime import SamplerV2 as Sampler\n",
        "from qiskit.transpiler.preset_passmanagers import generate_preset_pass_manager\n",
        "import math\n",
        "import matplotlib.pyplot as plt"
      ]
    },
    {
      "cell_type": "code",
      "source": [
        "## Save your IBM Quantum account and set it as your default account.\n",
        "QiskitRuntimeService.save_account(\n",
        "\n",
        "    token=\"YourTokenHere\",\n",
        "\n",
        "    instance=\"YourInstanceHere\", # Optionally specify the instance to use.\n",
        "\n",
        "    set_as_default=True,\n",
        "\n",
        "    # Use `overwrite=True` if you're updating your token.\n",
        "    #overwrite=True,\n",
        ")\n",
        "\n",
        "# Load saved credentials\n",
        "service = QiskitRuntimeService()"
      ],
      "metadata": {
        "id": "2PG41vqPWZBR"
      },
      "id": "2PG41vqPWZBR",
      "execution_count": null,
      "outputs": []
    },
    {
      "cell_type": "code",
      "execution_count": null,
      "id": "dff395a3",
      "metadata": {
        "id": "dff395a3"
      },
      "outputs": [],
      "source": [
        "# define Magic 8 Ball responses\n",
        "\n",
        "responses = [\"Yes\", \"Not today\", \"Definitely\", \"Try again\", \"Signs point to yes\", \"Not likely\", \"Sure thing!\", \"Outlook not so good\"]"
      ]
    },
    {
      "cell_type": "markdown",
      "source": [
        "## Qiskit Patterns Step 1: Map problem to quantum circuits\n",
        "\n",
        "We can think of this step as mapping our problem to be run on a quantum computer. This step needs to be done for any quantum computation, because our instinct is to think of problems in a classical way, while quantum computers work differently.\n",
        "\n",
        "Problem:\n",
        "I need a program to generate a random number out of 8.\n",
        "\n",
        "Mapping to a classical computer: generate a random integer in range(1,9)\n",
        "\n",
        "Mapping to a quantum computer: put 3 qubits into an equal superposition, which creates a quantum state vector with 8 basis states, each with an equal probability of being the result of a measurement"
      ],
      "metadata": {
        "id": "NUD6VkyuRET1"
      },
      "id": "NUD6VkyuRET1"
    },
    {
      "cell_type": "code",
      "execution_count": null,
      "id": "1568e5ff",
      "metadata": {
        "id": "1568e5ff"
      },
      "outputs": [],
      "source": [
        "# set up a Quantum circuit with 3 qubits\n",
        "qc = QuantumCircuit(3)\n",
        "\n",
        "# place a Hadamard gate on qubits 0, 1, and 2\n",
        "qc.h(0)\n",
        "qc.h(1)\n",
        "qc.h(2)\n",
        "\n",
        "# add a measurement to your circuit\n",
        "qc.measure_all()\n",
        "\n",
        "# visualize your circuit before running it\n",
        "qc.draw(\"mpl\")"
      ]
    },
    {
      "cell_type": "markdown",
      "source": [
        "## Qiskit Patterns Step 2: Optimize for target hardware"
      ],
      "metadata": {
        "id": "annsL69BSI0u"
      },
      "id": "annsL69BSI0u"
    },
    {
      "cell_type": "code",
      "execution_count": null,
      "id": "e7dc87be",
      "metadata": {
        "id": "e7dc87be"
      },
      "outputs": [],
      "source": [
        "# instantiate runtime service, choose backend\n",
        "\n",
        "service = QiskitRuntimeService(channel=\"ibm_cloud\")\n",
        "backend = service.least_busy(simulator=False, operational=True)\n",
        "backend.name"
      ]
    },
    {
      "cell_type": "code",
      "source": [
        "# transpile circuit\n",
        "\n",
        "pm = generate_preset_pass_manager(backend=backend, optimization_level=1)\n",
        "isa_circuit = pm.run(qc)\n",
        "\n",
        "# visualize transpiled circuit\n",
        "\n",
        "isa_circuit.draw('mpl', idle_wires=False)"
      ],
      "metadata": {
        "id": "58vuBLyyXT7n"
      },
      "id": "58vuBLyyXT7n",
      "execution_count": null,
      "outputs": []
    },
    {
      "cell_type": "markdown",
      "source": [
        "## Qiskit Patterns Step 3: Execute on target hardware\n",
        "\n",
        "We are going to submit a number of shots which tells the system how many times to run our circuit. We could just run it once, but we'd have to trust that the system is in a superposition - we would only get one bitstring as a response. To prove to ourselves that our quantum system is being put into a superposition, and thus that we have an equal chance of getting any of the eight responses, we will run our circuit 1024 times, and plot all of the responses afterward."
      ],
      "metadata": {
        "id": "A5qNH7RXSfJE"
      },
      "id": "A5qNH7RXSfJE"
    },
    {
      "cell_type": "code",
      "source": [
        "# run job for desired number of shots\n",
        "\n",
        "sampler = Sampler(mode=backend)\n",
        "job = sampler.run([isa_circuit], shots=1024)\n",
        "print(job.job_id())"
      ],
      "metadata": {
        "id": "5lT3KcYfX8Fy"
      },
      "id": "5lT3KcYfX8Fy",
      "execution_count": null,
      "outputs": []
    },
    {
      "cell_type": "markdown",
      "source": [
        "## Qiskit Patterns Step 4: Post-process results\n",
        "On the [IBM Quantum platform](https://quantum.cloud.ibm.com/), you should click into either your most recent job (if this is your most recent) or the job matching the ID that was output above if you had multiple jobs running. There will be a piece of dynamic code within that workload that looks like the below but will autopopulate your API token and job ID when copy pasted."
      ],
      "metadata": {
        "id": "aBxQK54NSmM5"
      },
      "id": "aBxQK54NSmM5"
    },
    {
      "cell_type": "code",
      "source": [
        "from qiskit_ibm_runtime import QiskitRuntimeService\n",
        "\n",
        "service = QiskitRuntimeService(\n",
        "    channel='ibm_quantum_platform',\n",
        "    instance='instance'\n",
        ")\n",
        "job = service.job('JobID')\n",
        "job_result = job.result()\n",
        "\n",
        "# To get counts for a particular pub result, use\n",
        "#\n",
        "# pub_result = job_result[<idx>].data.<classical register>.get_counts()\n",
        "#\n",
        "# where <idx> is the index of the pub and <classical register> is the name of the classical register.\n",
        "# You can use circuit.cregs to find the name of the classical registers."
      ],
      "metadata": {
        "id": "fdxLpWhhhdCY"
      },
      "id": "fdxLpWhhhdCY",
      "execution_count": null,
      "outputs": []
    },
    {
      "cell_type": "code",
      "source": [
        "# get results in the form of counts\n",
        "\n",
        "counts = job_result[0].data.meas.get_counts()\n",
        "print(counts)"
      ],
      "metadata": {
        "id": "N3g6kRPVu-C7"
      },
      "id": "N3g6kRPVu-C7",
      "execution_count": null,
      "outputs": []
    },
    {
      "cell_type": "code",
      "source": [
        "# plot results\n",
        "\n",
        "plot_histogram(counts)"
      ],
      "metadata": {
        "id": "20KV3UUcdIib"
      },
      "id": "20KV3UUcdIib",
      "execution_count": null,
      "outputs": []
    },
    {
      "cell_type": "markdown",
      "source": [
        "We have modeled what it would look like to get 1024 separate responses from our Magic 8 Ball. We could just run it again, one time, to get a response for a single question (you are welcome to do so). For the sake of time, however, I will just take the first sampled measurement as our answer. The bitstrings in our counts item are added in the order that they were measured, so they are still random."
      ],
      "metadata": {
        "id": "_VR-oQsGUd3d"
      },
      "id": "_VR-oQsGUd3d"
    },
    {
      "cell_type": "code",
      "source": [
        "# accessing the first key of the dict item containing our results\n",
        "first_key = list(counts.keys())[0]\n",
        "\n",
        "# turning that string into an integer\n",
        "# result is given in base 2, so we need to communicate that because the int() function assumes base 10 as default\n",
        "integer_value = int(first_key, 2)\n",
        "\n",
        "# returns our Magic 8 Ball response\n",
        "print(responses[integer_value])"
      ],
      "metadata": {
        "id": "drl7lytlVeQ1"
      },
      "id": "drl7lytlVeQ1",
      "execution_count": null,
      "outputs": []
    },
    {
      "cell_type": "markdown",
      "source": [
        "### Expanding on the Magic 8 Ball\n",
        "\n",
        "What if we could create a biased Magic 8 Ball, one that would increase the likelihood of measuring outcomes associated with positive or negative responses?"
      ],
      "metadata": {
        "id": "2poiQQS1TAeQ"
      },
      "id": "2poiQQS1TAeQ"
    },
    {
      "cell_type": "markdown",
      "source": [
        "### Qiskit Patterns: Map problem to quantum circuits"
      ],
      "metadata": {
        "id": "JImXfELz1psL"
      },
      "id": "JImXfELz1psL"
    },
    {
      "cell_type": "code",
      "source": [
        "# set up a Quantum circuit with 3 qubits\n",
        "qc_weighted = QuantumCircuit(3)\n",
        "\n",
        "# place a Hadamard gate on qubits 0, 1, and 2\n",
        "qc_weighted.h(0)\n",
        "qc_weighted.h(1)\n",
        "qc_weighted.h(2)\n",
        "\n",
        "# weight the likelihood of certain outcomes by using an Ry gate\n",
        "qc_weighted.ry(math.pi / 8, 0)\n",
        "\n",
        "# add a measurement to your circuit\n",
        "qc_weighted.measure_all()\n",
        "\n",
        "# visualize the circuit before running it\n",
        "qc_weighted.draw(\"mpl\")"
      ],
      "metadata": {
        "id": "rdPk0najTHjQ"
      },
      "id": "rdPk0najTHjQ",
      "execution_count": null,
      "outputs": []
    },
    {
      "cell_type": "markdown",
      "source": [
        "### Qiskit Patterns: Optimize for target hardware"
      ],
      "metadata": {
        "id": "_wPM1rAg2CqX"
      },
      "id": "_wPM1rAg2CqX"
    },
    {
      "cell_type": "code",
      "source": [
        "# instantiate runtime service, choose backend\n",
        "\n",
        "service = QiskitRuntimeService(channel=\"ibm_cloud\")\n",
        "backend = service.least_busy(simulator=False, operational=True)\n",
        "backend.name"
      ],
      "metadata": {
        "id": "mOq6FooTDdcL"
      },
      "id": "mOq6FooTDdcL",
      "execution_count": null,
      "outputs": []
    },
    {
      "cell_type": "code",
      "source": [
        "# transpile circuit\n",
        "\n",
        "pm = generate_preset_pass_manager(backend=backend, optimization_level=1)\n",
        "isa_circuit = pm.run(qc_weighted)\n",
        "\n",
        "# visualize transpiled circuit\n",
        "\n",
        "isa_circuit.draw('mpl', idle_wires=False)"
      ],
      "metadata": {
        "id": "sjmtLPuLTLwe"
      },
      "id": "sjmtLPuLTLwe",
      "execution_count": null,
      "outputs": []
    },
    {
      "cell_type": "markdown",
      "source": [
        "### Qiskit Patterns: Execute on target hardware"
      ],
      "metadata": {
        "id": "w8NHFBJI2Ina"
      },
      "id": "w8NHFBJI2Ina"
    },
    {
      "cell_type": "code",
      "source": [
        "# run job for desired number of shots\n",
        "\n",
        "sampler = Sampler(mode=backend)\n",
        "job = sampler.run([isa_circuit], shots=1024)\n",
        "print(job.job_id())"
      ],
      "metadata": {
        "id": "dNI8FrzzDrEE"
      },
      "id": "dNI8FrzzDrEE",
      "execution_count": null,
      "outputs": []
    },
    {
      "cell_type": "markdown",
      "source": [
        "### Qiskit Patterns: Post-process results"
      ],
      "metadata": {
        "id": "koiusO-22Mei"
      },
      "id": "koiusO-22Mei"
    },
    {
      "cell_type": "code",
      "source": [
        "from qiskit_ibm_runtime import QiskitRuntimeService\n",
        "\n",
        "service = QiskitRuntimeService(\n",
        "    channel='ibm_quantum_platform',\n",
        "    instance='instance'\n",
        ")\n",
        "job = service.job('JobID')\n",
        "job_result = job.result()\n",
        "\n",
        "# To get counts for a particular pub result, use\n",
        "#\n",
        "# pub_result = job_result[<idx>].data.<classical register>.get_counts()\n",
        "#\n",
        "# where <idx> is the index of the pub and <classical register> is the name of the classical register.\n",
        "# You can use circuit.cregs to find the name of the classical registers."
      ],
      "metadata": {
        "id": "Ds_24wt2K08q"
      },
      "id": "Ds_24wt2K08q",
      "execution_count": null,
      "outputs": []
    },
    {
      "cell_type": "code",
      "source": [
        "# get results in the form of counts\n",
        "\n",
        "counts = job_result[0].data.meas.get_counts()\n",
        "print(counts)"
      ],
      "metadata": {
        "id": "F1PkwDpQK4EQ"
      },
      "id": "F1PkwDpQK4EQ",
      "execution_count": null,
      "outputs": []
    },
    {
      "cell_type": "code",
      "source": [
        "# plot results\n",
        "\n",
        "plot_histogram(counts)"
      ],
      "metadata": {
        "id": "-P7pYlTjK6ux"
      },
      "id": "-P7pYlTjK6ux",
      "execution_count": null,
      "outputs": []
    },
    {
      "cell_type": "code",
      "source": [
        "# accessing the first key of the dict item containing our results\n",
        "first_key = list(counts.keys())[0]\n",
        "\n",
        "# turning that string into an integer\n",
        "# result is given in base 2, so we need to communicate that because the int() function assumes base 10 as default\n",
        "integer_value = int(first_key, 2)\n",
        "\n",
        "# returns our Magic 8 Ball response\n",
        "print(responses[integer_value])"
      ],
      "metadata": {
        "id": "VXns0Qcmd8fK"
      },
      "id": "VXns0Qcmd8fK",
      "execution_count": null,
      "outputs": []
    }
  ],
  "metadata": {
    "kernelspec": {
      "display_name": "Python 3 (ipykernel)",
      "language": "python",
      "name": "python3"
    },
    "language_info": {
      "codemirror_mode": {
        "name": "ipython",
        "version": 3
      },
      "file_extension": ".py",
      "mimetype": "text/x-python",
      "name": "python",
      "nbconvert_exporter": "python",
      "pygments_lexer": "ipython3",
      "version": "3.9.7"
    },
    "colab": {
      "provenance": [],
      "include_colab_link": true
    }
  },
  "nbformat": 4,
  "nbformat_minor": 5
}